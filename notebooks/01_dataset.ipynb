{
 "cells": [
  {
   "cell_type": "markdown",
   "metadata": {},
   "source": [
    "#### Librerias"
   ]
  },
  {
   "cell_type": "code",
   "execution_count": 41,
   "metadata": {},
   "outputs": [],
   "source": [
    "import glob\n",
    "import re\n",
    "from pathlib import Path\n",
    "\n",
    "import matplotlib.pyplot as plt\n",
    "import numpy as np\n",
    "from datasets import Dataset\n",
    "from transformers import AutoTokenizer"
   ]
  },
  {
   "cell_type": "markdown",
   "metadata": {},
   "source": [
    "#### Path de los datos"
   ]
  },
  {
   "cell_type": "code",
   "execution_count": 2,
   "metadata": {},
   "outputs": [],
   "source": [
    "DATA = Path(\"../data/codigo_penal/text\")"
   ]
  },
  {
   "cell_type": "markdown",
   "metadata": {},
   "source": [
    "#### Inspeccionar data"
   ]
  },
  {
   "cell_type": "code",
   "execution_count": 3,
   "metadata": {},
   "outputs": [
    {
     "data": {
      "text/plain": [
       "['../data/codigo_penal/text/cleaned_output_1.txt',\n",
       " '../data/codigo_penal/text/cleaned_output_2.txt',\n",
       " '../data/codigo_penal/text/cleaned_output_3.txt',\n",
       " '../data/codigo_penal/text/cleaned_output_4.txt',\n",
       " '../data/codigo_penal/text/cleaned_output_5.txt',\n",
       " '../data/codigo_penal/text/cleaned_output_6.txt',\n",
       " '../data/codigo_penal/text/cleaned_output_7.txt',\n",
       " '../data/codigo_penal/text/cleaned_output_8.txt',\n",
       " '../data/codigo_penal/text/cleaned_output_9.txt',\n",
       " '../data/codigo_penal/text/cleaned_output_10.txt',\n",
       " '../data/codigo_penal/text/cleaned_output_11.txt',\n",
       " '../data/codigo_penal/text/cleaned_output_12.txt',\n",
       " '../data/codigo_penal/text/cleaned_output_13.txt',\n",
       " '../data/codigo_penal/text/cleaned_output_14.txt',\n",
       " '../data/codigo_penal/text/cleaned_output_15.txt',\n",
       " '../data/codigo_penal/text/cleaned_output_16.txt',\n",
       " '../data/codigo_penal/text/cleaned_output_17.txt',\n",
       " '../data/codigo_penal/text/cleaned_output_18.txt',\n",
       " '../data/codigo_penal/text/cleaned_output_19.txt',\n",
       " '../data/codigo_penal/text/cleaned_output_20.txt']"
      ]
     },
     "execution_count": 3,
     "metadata": {},
     "output_type": "execute_result"
    }
   ],
   "source": [
    "file_list = sorted(glob.glob(f\"{DATA}/*.txt\"), key=lambda x: int(re.search(r\"\\d+\", x).group()))\n",
    "file_list"
   ]
  },
  {
   "cell_type": "markdown",
   "metadata": {},
   "source": [
    "#### Cargar los datos"
   ]
  },
  {
   "cell_type": "code",
   "execution_count": 4,
   "metadata": {},
   "outputs": [
    {
     "name": "stdout",
     "output_type": "stream",
     "text": [
      "Numero de paginas del codigo penal: 20\n"
     ]
    }
   ],
   "source": [
    "# Leer los archivos y guardarlos en una lista\n",
    "docs = []\n",
    "for file in file_list:\n",
    "    with open(file, \"r\") as f:\n",
    "        content = f.read()\n",
    "        docs.append(content)\n",
    "print(f\"Numero de paginas del codigo penal: {len(docs)}\")"
   ]
  },
  {
   "cell_type": "markdown",
   "metadata": {},
   "source": [
    "#### Preparar datos"
   ]
  },
  {
   "cell_type": "code",
   "execution_count": 5,
   "metadata": {},
   "outputs": [
    {
     "name": "stdout",
     "output_type": "stream",
     "text": [
      "LEY 599 DE 2000 \n",
      "(julio 24) \n",
      "Diario Oficial No. 44.097 de 24 de julio de 2000 \n",
      "<ADVERTENCIA: Ver el Resumen de Notas de Vigencia en relación con los criterios adoptados por el editor para calcular los aumentos de penas de que trata el Artículo 14 de la Ley 890 de 2004. \n",
      "Sobre el particular, el editor destaca que en la comunidad jurídica del país existen diferentes interpretaciones sobre el alcance de la siguiente frase del Artículo 14 de la Ley 890 de 2004: \"Las penas previstas en los tipos penales contenidos en la Parte Especial del Código Penal ...\"\n",
      "La interpretación del editor se basa en la claridad del texto del Artículo 14 de la Ley 890 de 2004 y en las definiciones contenidas en los Artículos 35 y 43 del Código Penal (Ley 599 de 2000)>\n",
      "<Según lo dispuesto por el Artículo 476 este Código entra a regir un (1) año después de su promulgación.>\n",
      "EL CONGRESO DE COLOMBIA \n",
      "Por la cual se expide el Código Penal \n",
      "Resumen de Notas de Vigencia\n",
      "\n",
      "Notas del Editor\n",
      "- Destaca el editor lo dispuesto en el artículo 49 de la Ley 1955 de 2019, 'por el cual se expide el Plan Nacional de Desarrollo 2018-2022. “Pacto por Colombia, Pacto por la Equidad”', publicada en el Diario Oficial No. 50.964 de 25 de mayo 2019:'ARTÍCULO 49. CÁLCULO DE VALORES EN UVT. A partir del 1 de enero de 2020, todos los cobros, sanciones, multas, tasas, tarifas y estampillas, actualmente denominados y establecidos con base en el salario mínimo mensual legal vigente (smmlv), deberán ser calculados con base en su equivalencia en términos de la Unidad de Valor Tributario (UVT). En adelante, las actualizaciones de estos valores también se harán con base en el valor de la UVT vigente.PARÁGRAFO. Los cobros, sanciones, multas, tasas, tarifas y estampillas, que se encuentren ejecutoriados con anterioridad al 1 de enero de 2020 se mantendrán determinados en smmlv.' El editor destaca la temporalidad de cuatro años de los planes de desarrollo, según puede deducirse de lo establecido por la Constitución Política en sus artículos 339, 340, 341 y 342, y por la Ley 152 de 1994 en los artículos 13, 14 y 25.      \n",
      "DECRETA: \n",
      "LIBRO I. \n",
      "PARTE GENERAL \n",
      "TÍTULO I. \n",
      "DE LAS NORMAS RECTORAS DE LA LEY PENAL COLOMBIANA \n",
      "CAPÍTULO ÚNICO \n",
      "ARTÍCULO 1o. DIGNIDAD HUMANA. El derecho penal tendrá como fundamento el respeto a la dignidad humana. \n",
      "\n",
      "\n",
      "\n",
      "ARTÍCULO 2o. INTEGRACIÓN. Las normas y postulados que sobre derechos humanos se encuentren consignados en la Constitución Política, en los tratados y convenios internacionales ratificados por Colombia, harán parte integral de este código. \n",
      "\n",
      "\n",
      "\n",
      "ARTÍCULO 3o. PRINCIPIOS DE LAS SANCIONES PENALES. La imposición de la pena o de la medida de seguridad responderá a los principios de necesidad, proporcionalidad y razonabilidad. \n",
      "El principio de necesidad se entenderá en el marco de la prevención y conforme a las instituciones que la desarrollan. \n",
      "\n",
      "\n",
      "\n",
      "ARTÍCULO 4o. FUNCIONES DE LA PENA. La pena cumplirá las funciones de prevención general, retribución justa, prevención especial, reinserción social y protección al condenado. \n",
      "La prevención especial y la reinserción social operan en el momento de la ejecución de la pena de prisión. \n",
      "\n",
      "\n",
      "\n",
      "ARTÍCULO 5o. FUNCIONES DE LA MEDIDA DE SEGURIDAD. En el momento de la ejecución de la medida de seguridad operan las funciones de protección, curación, tutela y rehabilitación. \n",
      "\n",
      "\n",
      "\n",
      "ARTÍCULO 6o. LEGALIDAD. Nadie podrá ser juzgado sino conforme a las leyes preexistentes al acto que se le imputa, ante el juez o tribunal competente y con la observancia de la plenitud de las formas propias de cada juicio. La preexistencia de la norma también se aplica para el reenvío en materia de tipos penales en blanco. \n",
      "La ley permisiva o favorable, aun cuando sea posterior se aplicará, sin excepción, de preferencia a la restrictiva o desfavorable. Ello también rige para los condenados. \n",
      "La analogía sólo se aplicará en materias permisivas. \n",
      "\n",
      "\n",
      "\n",
      "ARTÍCULO 7o. IGUALDAD. La ley penal se aplicará a las personas sin tener en cuenta consideraciones diferentes a las establecidas en ella. El funcionario judicial tendrá especial consideración cuando se trate de valorar el injusto, la culpabilidad y las consecuencias jurídicas del delito, en relación con las personas que se encuentren en las situaciones descritas en el inciso final del artículo 13 de la Constitución Política. \n",
      "\n",
      "\n",
      "\n",
      "ARTÍCULO 8o. PROHIBICIÓN DE DOBLE INCRIMINACIÓN. A nadie se le podrá imputar más de una vez la misma conducta punible, cualquiera sea la denominación jurídica que se le dé o haya dado, salvo lo establecido en los instrumentos internacionales. \n",
      "Jurisprudencia Vigencia\n",
      "Corte Constitucional- Aparte subrayado declarado EXEQUIBLE por la Corte Constitucional mediante Sentencia C-554-01 de 30 de mayo de 2001, Magistrado Ponente Dr. Clara Inés Vargas Hernández.- Artículo declarado EXEQUIBLE por la Corte Constitucional mediante Sentencia C-551-01 de 30 de mayo, Magistrado Ponente Dr. Alvaro Tafur Galvis, 'por los cargos analizados en esta sentencia.'. \n",
      "\n",
      "\n",
      "\n",
      "ARTÍCULO 9o. CONDUCTA PUNIBLE. P\n"
     ]
    }
   ],
   "source": [
    "# Se inspecciona el primer documento\n",
    "print(docs[0][:5000])"
   ]
  },
  {
   "cell_type": "markdown",
   "metadata": {},
   "source": [
    "- Los datos tienen una division natural de 4 nuevas lineas (`\\n`), por ende, se pueden separar en parrafos."
   ]
  },
  {
   "cell_type": "code",
   "execution_count": 6,
   "metadata": {},
   "outputs": [
    {
     "name": "stdout",
     "output_type": "stream",
     "text": [
      "Numero de parrafos finales: 554\n"
     ]
    }
   ],
   "source": [
    "# Dividir los datos\n",
    "split_by = \"\\n\\n\\n\\n\"\n",
    "splitted_docs = [{\"text\": split_doc.strip()} for doc in docs for split_doc in doc.split(split_by)]\n",
    "print(f\"Numero de parrafos finales: {len(splitted_docs)}\")"
   ]
  },
  {
   "cell_type": "markdown",
   "metadata": {},
   "source": [
    "#### Construir el dataset\n",
    "A la estructura que se quiere llegar es un `json` con dos elementos, el parrafo del articulo penal y el numero de tokens del modelo."
   ]
  },
  {
   "cell_type": "code",
   "execution_count": 7,
   "metadata": {},
   "outputs": [
    {
     "data": {
      "text/plain": [
       "Dataset({\n",
       "    features: ['text'],\n",
       "    num_rows: 554\n",
       "})"
      ]
     },
     "execution_count": 7,
     "metadata": {},
     "output_type": "execute_result"
    }
   ],
   "source": [
    "# Se crea el dataset\n",
    "dataset = Dataset.from_list(splitted_docs)\n",
    "dataset"
   ]
  },
  {
   "cell_type": "code",
   "execution_count": 8,
   "metadata": {},
   "outputs": [
    {
     "data": {
      "text/plain": [
       "{'text': 'ARTÍCULO 49. LA PRIVACIÓN DEL DERECHO A LA TENENCIA Y PORTE DE ARMA. La imposición de la pena de privación del derecho a la tenencia y porte de arma inhabilitará al penado para el ejercicio de este derecho por el tiempo fijado en la sentencia.'}"
      ]
     },
     "execution_count": 8,
     "metadata": {},
     "output_type": "execute_result"
    }
   ],
   "source": [
    "# Ejemplo 1\n",
    "dataset[50]"
   ]
  },
  {
   "cell_type": "code",
   "execution_count": 9,
   "metadata": {},
   "outputs": [
    {
     "data": {
      "text/plain": [
       "{'text': 'ARTÍCULO 100. COMISO. Los instrumentos y efectos con los que se haya cometido la conducta punible o que provengan de su ejecución, y que no tengan libre comercio, pasarán a poder de la Fiscalía General de la Nación o a la entidad que ésta designe, a menos que la ley disponga su destrucción. \\nIgual medida se aplicará en los delitos dolosos, cuando los bienes, que tengan libre comercio y pertenezcan al responsable penalmente, sean utilizados para la realización de la conducta punible, o provengan de su ejecución. \\nEn las conductas culposas, los vehículos automotores, naves o aeronaves, cualquier unidad montada sobre ruedas y los demás objetos que tengan libre comercio, se someterán a los experticios técnicos y se entregarán provisionalmente al propietario, legítimo tenedor salvo que se haya solicitado y decretado su embargo y secuestro. En tal caso, no procederá la entrega, hasta tanto no se tome decisión definitiva respecto de ellos. \\nLa entrega será definitiva cuando se garantice el pago de los perjuicios, se hayan embargado bienes del sindicado en cuantía suficiente para atender al pago de aquellos, o hayan transcurrido diez y ocho (18) meses desde la realización de la conducta, sin que se haya producido la afectación del bien. \\nLIBRO II. \\nPARTE ESPECIAL DE LOS DELITOS EN PARTICULAR. \\nTÍTULO I. \\nDELITOS CONTRA LA VIDA Y LA INTEGRIDAD PERSONAL \\nCAPÍTULO I. \\nDEL GENOCIDIO'}"
      ]
     },
     "execution_count": 9,
     "metadata": {},
     "output_type": "execute_result"
    }
   ],
   "source": [
    "# Ejemplo 2\n",
    "dataset[100]"
   ]
  },
  {
   "cell_type": "code",
   "execution_count": 10,
   "metadata": {},
   "outputs": [
    {
     "name": "stderr",
     "output_type": "stream",
     "text": [
      "Special tokens have been added in the vocabulary, make sure the associated word embeddings are fine-tuned or trained.\n"
     ]
    }
   ],
   "source": [
    "# Se carga el tokenizador\n",
    "tokenizer = AutoTokenizer.from_pretrained(pretrained_model_name_or_path=\"lightblue/suzume-llama-3-8B-multilingual\")"
   ]
  },
  {
   "cell_type": "code",
   "execution_count": 16,
   "metadata": {},
   "outputs": [
    {
     "name": "stdout",
     "output_type": "stream",
     "text": [
      "Texto original: Hola como estas?\n",
      "['Hola', 'Ġcomo', 'Ġestas', '?']\n",
      "[69112, 8112, 48591, 30]\n",
      "Numero de tokens: 4\n"
     ]
    }
   ],
   "source": [
    "# Ejemplo del tokenizador\n",
    "example = \"Hola como estas?\"\n",
    "print(f\"Texto original: {example}\")\n",
    "print(tokenizer.tokenize(example))\n",
    "print(tokenizer.encode(example))\n",
    "print(f\"Numero de tokens: {len(tokenizer.encode(example))}\")"
   ]
  },
  {
   "cell_type": "code",
   "execution_count": 22,
   "metadata": {},
   "outputs": [
    {
     "name": "stderr",
     "output_type": "stream",
     "text": [
      "Map: 100%|██████████| 554/554 [00:00<00:00, 1358.49 examples/s]\n"
     ]
    }
   ],
   "source": [
    "dataset = dataset.map(lambda x: {\"tokens\": len(tokenizer.tokenize(x[\"text\"]))})"
   ]
  },
  {
   "cell_type": "code",
   "execution_count": 24,
   "metadata": {},
   "outputs": [
    {
     "data": {
      "text/plain": [
       "{'text': 'ARTÍCULO 49. LA PRIVACIÓN DEL DERECHO A LA TENENCIA Y PORTE DE ARMA. La imposición de la pena de privación del derecho a la tenencia y porte de arma inhabilitará al penado para el ejercicio de este derecho por el tiempo fijado en la sentencia.',\n",
       " 'tokens': 69}"
      ]
     },
     "execution_count": 24,
     "metadata": {},
     "output_type": "execute_result"
    }
   ],
   "source": [
    "# Ejemplo 1 tokenizado\n",
    "dataset[50]"
   ]
  },
  {
   "cell_type": "code",
   "execution_count": 26,
   "metadata": {},
   "outputs": [
    {
     "data": {
      "text/plain": [
       "{'text': 'ARTÍCULO 100. COMISO. Los instrumentos y efectos con los que se haya cometido la conducta punible o que provengan de su ejecución, y que no tengan libre comercio, pasarán a poder de la Fiscalía General de la Nación o a la entidad que ésta designe, a menos que la ley disponga su destrucción. \\nIgual medida se aplicará en los delitos dolosos, cuando los bienes, que tengan libre comercio y pertenezcan al responsable penalmente, sean utilizados para la realización de la conducta punible, o provengan de su ejecución. \\nEn las conductas culposas, los vehículos automotores, naves o aeronaves, cualquier unidad montada sobre ruedas y los demás objetos que tengan libre comercio, se someterán a los experticios técnicos y se entregarán provisionalmente al propietario, legítimo tenedor salvo que se haya solicitado y decretado su embargo y secuestro. En tal caso, no procederá la entrega, hasta tanto no se tome decisión definitiva respecto de ellos. \\nLa entrega será definitiva cuando se garantice el pago de los perjuicios, se hayan embargado bienes del sindicado en cuantía suficiente para atender al pago de aquellos, o hayan transcurrido diez y ocho (18) meses desde la realización de la conducta, sin que se haya producido la afectación del bien. \\nLIBRO II. \\nPARTE ESPECIAL DE LOS DELITOS EN PARTICULAR. \\nTÍTULO I. \\nDELITOS CONTRA LA VIDA Y LA INTEGRIDAD PERSONAL \\nCAPÍTULO I. \\nDEL GENOCIDIO',\n",
       " 'tokens': 385}"
      ]
     },
     "execution_count": 26,
     "metadata": {},
     "output_type": "execute_result"
    }
   ],
   "source": [
    "# Ejemplo 2 tokenizado\n",
    "dataset[100]"
   ]
  },
  {
   "cell_type": "code",
   "execution_count": 51,
   "metadata": {},
   "outputs": [
    {
     "data": {
      "image/png": "[encoded data removed]",
      "text/plain": [
       "<Figure size 1000x600 with 1 Axes>"
      ]
     },
     "metadata": {},
     "output_type": "display_data"
    }
   ],
   "source": [
    "# Distribucion de tokens\n",
    "plt.figure(figsize=(10, 6))\n",
    "plt.hist(dataset[\"tokens\"], bins=50, color=\"red\")\n",
    "plt.axvline(x=np.mean(dataset[\"tokens\"]), color=\"black\", linestyle=\"--\", label=f\"Promedio: {round(np.mean(dataset['tokens']))}\")\n",
    "plt.axvline(x=np.median(dataset[\"tokens\"]), color=\"blue\", linestyle=\"--\", label=f\"Mediana: {round(np.median(dataset['tokens']))}\")\n",
    "plt.title(\"Distribucion de tokens por articulo\")\n",
    "plt.xlabel(\"Numero de tokens\")\n",
    "plt.ylabel(\"Frecuencia\")\n",
    "plt.legend()\n",
    "plt.show()"
   ]
  },
  {
   "cell_type": "code",
   "execution_count": 52,
   "metadata": {},
   "outputs": [
    {
     "name": "stderr",
     "output_type": "stream",
     "text": [
      "Creating parquet from Arrow format: 100%|██████████| 1/1 [00:00<00:00, 362.42ba/s]\n",
      "Uploading the dataset shards: 100%|██████████| 1/1 [00:00<00:00,  1.35it/s]\n"
     ]
    },
    {
     "data": {
      "text/plain": [
       "CommitInfo(commit_url='https://huggingface.co/datasets/jjovalle99/codigo_penal/commit/f4aca2986e5e3f926470742c78d427774f426d54', commit_message='Upload dataset', commit_description='', oid='f4aca2986e5e3f926470742c78d427774f426d54', pr_url=None, pr_revision=None, pr_num=None)"
      ]
     },
     "execution_count": 52,
     "metadata": {},
     "output_type": "execute_result"
    }
   ],
   "source": [
    "# Guardar el dataset\n",
    "dataset.push_to_hub(\"codigo_penal\")"
   ]
  },
  {
   "cell_type": "markdown",
   "metadata": {},
   "source": [
    "![img](../assets/hf_dataset.png)"
   ]
  }
 ],
 "metadata": {
  "kernelspec": {
   "display_name": ".venv",
   "language": "python",
   "name": "python3"
  },
  "language_info": {
   "codemirror_mode": {
    "name": "ipython",
    "version": 3
   },
   "file_extension": ".py",
   "mimetype": "text/x-python",
   "name": "python",
   "nbconvert_exporter": "python",
   "pygments_lexer": "ipython3",
   "version": "3.11.6"
  }
 },
 "nbformat": 4,
 "nbformat_minor": 2
}
